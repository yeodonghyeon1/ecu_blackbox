{
 "cells": [
  {
   "cell_type": "code",
   "execution_count": null,
   "metadata": {},
   "outputs": [],
   "source": [
    "import cv2\n",
    "import numpy as np\n",
    "import random\n",
    "import time\n",
    "# from can_network import canData\n",
    "from visualization import Visual\n",
    "import os \n",
    "import threading\n",
    "import socket\n",
    "import datetime\n",
    "import pandas as pd"
   ]
  },
  {
   "cell_type": "code",
   "execution_count": 16,
   "metadata": {},
   "outputs": [
    {
     "name": "stdout",
     "output_type": "stream",
     "text": [
      "0.00400 sec\n",
      "0.02702 sec\n"
     ]
    }
   ],
   "source": [
    "start = time.time()\n",
    "\n",
    "\n",
    "dataframe = pd.read_csv(\"source/can_data_2024-05-17_001.csv\")\n",
    "# print(dataframe)\n",
    "\n",
    "end = time.time()\n",
    "\n",
    "print(f\"{end - start:.5f} sec\")\n",
    "\n",
    "start = time.time()\n",
    "\n",
    "\n",
    "dataframe = pd.read_csv(\"source/can_data_2024-05-17_002.csv\")\n",
    "# print(dataframe)\n",
    "\n",
    "end = time.time()\n",
    "\n",
    "print(f\"{end - start:.5f} sec\")"
   ]
  },
  {
   "cell_type": "code",
   "execution_count": 23,
   "metadata": {},
   "outputs": [
    {
     "name": "stdout",
     "output_type": "stream",
     "text": [
      "현재 날짜와 시간: 2024-05-18 15:23:04.079238\n",
      "현재 시간 (문자열): 2024y_05m_18d_15h_23m_04s\n",
      "생성된 날짜와 시간: 2021-09-01 12:30:45\n",
      "내일 날짜와 시간: 2024-05-19 15:23:04.079238\n",
      "현재 날짜와 시간이 생성된 날짜와 시간보다 뒤에 있습니다.\n"
     ]
    }
   ],
   "source": [
    "import datetime\n",
    " \n",
    "# 현재 날짜와 시간 출력\n",
    "now = datetime.datetime.now()\n",
    "print(\"현재 날짜와 시간:\", now)\n",
    " \n",
    "# 날짜와 시간을 문자열로 출력\n",
    "print(\"현재 시간 (문자열):\", now.strftime(\"%Yy_%mm_%dd_%Hh_%Mm_%Ss\"))\n",
    " \n",
    "# 날짜와 시간을 생성\n",
    "dt = datetime.datetime(2021, 9, 1, 12, 30, 45)\n",
    "print(\"생성된 날짜와 시간:\", dt)\n",
    " \n",
    "# 날짜와 시간 연산\n",
    "tomorrow = now + datetime.timedelta(days=1)\n",
    "print(\"내일 날짜와 시간:\", tomorrow)\n",
    " \n",
    "# 날짜와 시간 비교\n",
    "if now > dt:\n",
    "    print(\"현재 날짜와 시간이 생성된 날짜와 시간보다 뒤에 있습니다.\")\n",
    "else:\n",
    "    print(\"현재 날짜와 시간이 생성된 날짜와 시간보다 앞에 있습니다.\")\n"
   ]
  },
  {
   "cell_type": "code",
   "execution_count": null,
   "metadata": {},
   "outputs": [
    {
     "ename": "",
     "evalue": "",
     "output_type": "error",
     "traceback": [
      "\u001b[1;31mRunning cells with 'ecu (Python 3.9.19)' requires the ipykernel package.\n",
      "\u001b[1;31mRun the following command to install 'ipykernel' into the Python environment. \n",
      "\u001b[1;31mCommand: 'conda install -p d:\\anaconda3\\envs\\ecu ipykernel --update-deps --force-reinstall'"
     ]
    }
   ],
   "source": [
    "for file_path, file_dir, file_name in os.walk(\"../camera2\"):\n",
    "    print(file_name)\n",
    "\n",
    "os.listdir(\"../camera/camera2\")"
   ]
  },
  {
   "cell_type": "code",
   "execution_count": null,
   "metadata": {},
   "outputs": [],
   "source": [
    "import cv2\n",
    "import numpy as np\n",
    "import matplotlib.pyplot as plt\n",
    "from matplotlib.backends.backend_agg import FigureCanvasAgg as FigureCanvas\n",
    "from matplotlib.figure import Figure\n",
    "import random\n",
    "import time\n",
    "# from can_network import canData\n",
    "from visualization import Visual\n",
    "import os \n",
    "import threading\n",
    "import socket\n",
    "import datetime\n",
    "import pandas as pd\n",
    "import re\n",
    "\n",
    "\n",
    "filename = \"2024y_05m_20d_13h_08m_46s.mp4\"\n",
    "filename = filename.replace(\".mp4\", \"\")\n",
    "file_pattern = re.compile(r'(\\d{4})y_(\\d{2})m_(\\d{2})d_(\\d{2})h_(\\d{2})m_(\\d{2})s')\n",
    "match = file_pattern.match(filename)\n",
    "if not match:\n",
    "    print(f\"Filename {filename} does not match the expected pattern.\")\n",
    "    return []\n",
    "year, month, day, hour, minute, second = map(int, match.groups())\n",
    "file_time = datetime(year, month, day, hour, minute, second)"
   ]
  }
 ],
 "metadata": {
  "kernelspec": {
   "display_name": "six",
   "language": "python",
   "name": "python3"
  },
  "language_info": {
   "codemirror_mode": {
    "name": "ipython",
    "version": 3
   },
   "file_extension": ".py",
   "mimetype": "text/x-python",
   "name": "python",
   "nbconvert_exporter": "python",
   "pygments_lexer": "ipython3",
   "version": "3.9.19"
  }
 },
 "nbformat": 4,
 "nbformat_minor": 2
}
